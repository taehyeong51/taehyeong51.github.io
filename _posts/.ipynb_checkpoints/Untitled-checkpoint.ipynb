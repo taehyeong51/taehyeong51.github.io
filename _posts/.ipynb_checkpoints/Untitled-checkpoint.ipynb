{
 "cells": [
  {
   "cell_type": "markdown",
   "metadata": {},
   "source": [
    "# 1. SW 역량테스트 정보"
   ]
  },
  {
   "cell_type": "markdown",
   "metadata": {},
   "source": [
    "**지원 사업부 및 직무 정보** : dx 사업부, 부문공통-SW개발 <br>\n",
    "**서류 지원 마감 날짜** : 2022/09/14 <br>\n",
    "**서류 발표 날짜** : 2022/10/05 <br>\n",
    "**코딩 테스트 날짜** : 2022/10/16 <br>\n",
    "\n",
    "자소서는 상반기에 작성했던 내용을 바탕으로 크게 수정하지는 않고 제출하였습니다. <br>\n",
    "인턴 활동과 토이 프로젝트 내용을 기반으로 자소서를 작성하였습니다."
   ]
  },
  {
   "cell_type": "markdown",
   "metadata": {},
   "source": [
    "# 2. 준비 내용"
   ]
  },
  {
   "cell_type": "markdown",
   "metadata": {},
   "source": [
    "### 코테 공부\n",
    "상반기 삼성전자 코딩테스트 응시 당시까지만 하더라도 손가락 까딱하나 못했던 기억이 있어 부랴부랴 여름부터 코딩테스트 준비를 시작했습니다.<br> \n",
    "인턴 생활 진행하면서 랩에 있던 선배 및 동기와 함께 코딩스터디를 진행하였고 굉장히 큰 도움이 됐습니다. 자연스럽게 혼자 진행하는 것보다 더 체계적으로 진행하게 되며, 함께 진행하는 스터디원들의 코드는 게으른 스스로를 계속 채찍질 할 수 있었던 원동력이 되었습니다..☺ <br>\n",
    "\n",
    "`6~7월` <br>\n",
    "inflearn 강의를 들으면서 알고리즘 공부를 진행했습니다.<br>\n",
    "수강한 강의 : [Inflearn](https://www.inflearn.com/course/%ED%8C%8C%EC%9D%B4%EC%8D%AC-%EC%95%8C%EA%B3%A0%EB%A6%AC%EC%A6%98-%EB%AC%B8%EC%A0%9C%ED%92%80%EC%9D%B4-%EC%BD%94%EB%94%A9%ED%85%8C%EC%8A%A4%ED%8A%B8/dashboard) <br>\n",
    "강의 내용은 되게 만족스러웠습니다. 비전공자로서 알고리즘을 처음 접했음에도 이해할 수 있게 설명을 잘 하시고 예제와 채점 프로그램을 제공해주셔서 실습에도 용이했습니다.<br>\n",
    "\n",
    "'7~8월' <br>\n",
    "백준 삼성전자 기출 문제를 풀이하였습니다.\n",
    "풀이한 문제집 : [BaekJoon](https://www.acmicpc.net/workbook/view/1152)\n"
   ]
  },
  {
   "cell_type": "markdown",
   "metadata": {},
   "source": [
    "# 3. 문제 후기"
   ]
  },
  {
   "cell_type": "code",
   "execution_count": null,
   "metadata": {},
   "outputs": [],
   "source": []
  }
 ],
 "metadata": {
  "kernelspec": {
   "display_name": "Python 3",
   "language": "python",
   "name": "python3"
  },
  "language_info": {
   "codemirror_mode": {
    "name": "ipython",
    "version": 3
   },
   "file_extension": ".py",
   "mimetype": "text/x-python",
   "name": "python",
   "nbconvert_exporter": "python",
   "pygments_lexer": "ipython3",
   "version": "3.8.5"
  }
 },
 "nbformat": 4,
 "nbformat_minor": 4
}
