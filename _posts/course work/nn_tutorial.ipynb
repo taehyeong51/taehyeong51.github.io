{
 "cells": [
  {
   "cell_type": "markdown",
   "metadata": {},
   "source": [
    "# [10주차] - Implementaion of Deep Learning(1)"
   ]
  },
  {
   "cell_type": "markdown",
   "metadata": {},
   "source": [
    "## 1. Introduction"
   ]
  },
  {
   "cell_type": "markdown",
   "metadata": {},
   "source": [
    "- Handwritten digit recognition\n",
    "    - zip codes를 자동으로 인식하는 모델에 대한 필요성\n",
    "    - 1990년대에 LeCun이 이미 Neural Network를 통해 이러한 recognition tasks를 구현하였음"
   ]
  },
  {
   "cell_type": "markdown",
   "metadata": {},
   "source": [
    "## 2. Design Procedure"
   ]
  },
  {
   "cell_type": "markdown",
   "metadata": {},
   "source": [
    "1. 입력과 출력 레이어를 설정 (Set input and Output layers)\n",
    "    - hidden layer와 node의 수 또한 설정할 수 있음\n",
    "    1. 입력 노드의 수는 입력 이미지 크기에 따라 결정\n",
    "        - ex) 28x28 픽셀 크기 이미지 -> 784 노드(Input Layer)\n",
    "    2. 출력 노드의 수는 인식하고자 하는 목표 개체 수에 따라 결정\n",
    "        - ex) 0~9까지 숫자를 인식하고자 하기 때문에 총 10개의 출력 노드가 필요(Output Layer)\n",
    "<br>\n",
    "2. Hidden layers 설정\n",
    "    - 두 가지 파라미터 : Layer의 수, Node의 수\n",
    "    - 네트워크를 설계하기 위해 고려해야 할 사항:\n",
    "    1. Hidden Layer의 수 증가\n",
    "        1. Abstraction 효과\n",
    "            - ReLU와 같은 Activation Function 사용 시 Nonlinearity를 효과적으로 반영가능(Network에 따라 다를 수 있음)\n",
    "        2. Loss Converge까지 소요되는 시간 증가\n",
    "            - Layer의 수가 증가하기 때문\n",
    "    2. Hidden Layer 내 노드의 수 증가\n",
    "        - 학습 Capability 개선되지만, 가중치(Weight)도 같이 증가되어 모델의 용량이 증가됨\n",
    "- 최적의(Optimal) 계층 및 노드 수를 한번에 도출하기는 매우 어려움\n",
    "    - 따라서 Heuristic 한 Study를 통해 여러 Parameter를 Setting해보고 결과를 도출하며 비교,분석할 필요가 있음\n",
    "<br>\n",
    "3. Loss Function과 Optimizer 선정\n",
    "    - 학습을 위한 Loss 함수 선택\n",
    "        - Classification 문제의 경우 Soft max를 기반으로 한 Cross Entropy 널리 사용됨\n",
    "        - Cross Entropy : $H(p,q) = -\\sum\\limits_{i}^{}{p(i)log(q(i))}$\n",
    "            - 이때 두 확률 분포가 비슷할수록 Cross Entropy는 0에 가까워짐\n",
    "            - ex)\n",
    "    - Loss를 최소화하는 최적의 가중치를 찾기 위한 Optimizer\n",
    "        - Solution으로 Gradient Descent를 채택\n",
    "        - Pytorch에서 제공하는 다양한 관련 함수를 통해 손쉽게 구현 가능\n",
    "            - torch.optim.Adam(...) : 가장 널리 사용되는 함수, SGD + momentum + RMSprop을 모두 포함\n",
    "                1. SGD(Stochastic Gradient Descent) : Momentum을 이용하여 Local Minima 극복\n",
    "                2. Adagrad : Learning Rate을 Step 마다 줄여 빠르고 정확한 수렴이 가능하게 함\n",
    "                3. RMSprop : 최적의 답에 도달하기 전에 0에 수렴하는 경우 방지"
   ]
  },
  {
   "cell_type": "markdown",
   "metadata": {},
   "source": [
    "## 3. Implementation"
   ]
  },
  {
   "cell_type": "code",
   "execution_count": 6,
   "metadata": {},
   "outputs": [],
   "source": [
    "from pathlib import Path\n",
    "import requests\n",
    "\n",
    "DATA_PATH = Path(\"data\")\n",
    "PATH = DATA_PATH / \"mnist\"\n",
    "\n",
    "PATH.mkdir(parents=True, exist_ok=True)\n",
    "\n",
    "URL = \"https://github.com/pytorch/tutorials/raw/master/_static/\"\n",
    "FILENAME = \"mnist.pkl.gz\"\n",
    "\n",
    "if not (PATH / FILENAME).exists(): # Data 이미 있으면 download (x)\n",
    "        content = requests.get(URL + FILENAME).content\n",
    "        (PATH / FILENAME).open(\"wb\").write(content)"
   ]
  },
  {
   "cell_type": "markdown",
   "metadata": {},
   "source": [
    "This dataset is in numpy array format, and has been stored using pickle,\n",
    "a python-specific format for serializing data.\n",
    "\n"
   ]
  },
  {
   "cell_type": "code",
   "execution_count": 3,
   "metadata": {},
   "outputs": [],
   "source": [
    "import pickle\n",
    "import gzip\n",
    "\n",
    "with gzip.open((PATH / FILENAME).as_posix(), \"rb\") as f:\n",
    "        ((x_train, y_train), (x_valid, y_valid), _) = pickle.load(f, encoding=\"latin-1\")"
   ]
  },
  {
   "cell_type": "markdown",
   "metadata": {},
   "source": [
    "Each image is 28 x 28, and is being stored as a flattened row of length\n",
    "784 (=28x28). Let's take a look at one; we need to reshape it to 2d\n",
    "first.\n",
    "\n"
   ]
  },
  {
   "cell_type": "code",
   "execution_count": 4,
   "metadata": {},
   "outputs": [
    {
     "name": "stdout",
     "output_type": "stream",
     "text": [
      "(50000, 784)\n"
     ]
    },
    {
     "data": {
      "image/png": "[encoded data removed]",
      "text/plain": [
       "<Figure size 432x288 with 1 Axes>"
      ]
     },
     "metadata": {
      "needs_background": "light"
     },
     "output_type": "display_data"
    }
   ],
   "source": [
    "from matplotlib import pyplot\n",
    "import numpy as np\n",
    "\n",
    "pyplot.imshow(x_train[0].reshape((28, 28)), cmap=\"gray\")\n",
    "print(x_train.shape)"
   ]
  },
  {
   "cell_type": "markdown",
   "metadata": {},
   "source": [
    "PyTorch uses ``torch.tensor``, rather than numpy arrays, so we need to\n",
    "convert our data.\n",
    "\n"
   ]
  },
  {
   "cell_type": "markdown",
   "metadata": {},
   "source": [
    "train과 validation을 tensor로 만드는 작업"
   ]
  },
  {
   "cell_type": "code",
   "execution_count": 5,
   "metadata": {},
   "outputs": [
    {
     "name": "stdout",
     "output_type": "stream",
     "text": [
      "tensor([[0., 0., 0.,  ..., 0., 0., 0.],\n",
      "        [0., 0., 0.,  ..., 0., 0., 0.],\n",
      "        [0., 0., 0.,  ..., 0., 0., 0.],\n",
      "        ...,\n",
      "        [0., 0., 0.,  ..., 0., 0., 0.],\n",
      "        [0., 0., 0.,  ..., 0., 0., 0.],\n",
      "        [0., 0., 0.,  ..., 0., 0., 0.]]) tensor([5, 0, 4,  ..., 8, 4, 8])\n",
      "torch.Size([50000, 784])\n",
      "tensor(0) tensor(9)\n"
     ]
    }
   ],
   "source": [
    "import torch\n",
    "\n",
    "x_train, y_train, x_valid, y_valid = map(\n",
    "    torch.tensor, (x_train, y_train, x_valid, y_valid)\n",
    ")\n",
    "n, c = x_train.shape\n",
    "print(x_train, y_train)\n",
    "print(x_train.shape)\n",
    "print(y_train.min(), y_train.max())"
   ]
  }
 ],
 "metadata": {
  "kernelspec": {
   "display_name": "Python 3",
   "language": "python",
   "name": "python3"
  },
  "language_info": {
   "codemirror_mode": {
    "name": "ipython",
    "version": 3
   },
   "file_extension": ".py",
   "mimetype": "text/x-python",
   "name": "python",
   "nbconvert_exporter": "python",
   "pygments_lexer": "ipython3",
   "version": "3.8.5"
  }
 },
 "nbformat": 4,
 "nbformat_minor": 1
}
